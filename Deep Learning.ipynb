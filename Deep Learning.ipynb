{
 "cells": [
  {
   "cell_type": "markdown",
   "metadata": {},
   "source": [
    "#### Import Libraries"
   ]
  },
  {
   "cell_type": "code",
   "execution_count": 1,
   "metadata": {},
   "outputs": [],
   "source": [
    "import pandas as pd\n",
    "import numpy as np\n",
    "\n",
    "import matplotlib.pyplot as plt\n",
    "import seaborn as sns\n",
    "\n",
    "from sklearn.model_selection import train_test_split\n",
    "from sklearn.preprocessing import OneHotEncoder, LabelEncoder, StandardScaler, MinMaxScaler\n",
    "from sklearn.compose import ColumnTransformer\n",
    "from sklearn.metrics import mean_squared_error, r2_score\n",
    "\n",
    "\n",
    "import torch\n",
    "import torch.utils.data as utils\n",
    "import torch.nn as nn\n",
    "import torch.nn.functional as F\n",
    "from torch.autograd import Variable\n",
    "import torch.optim as optim\n",
    "from torch.utils.data import Dataset, DataLoader\n",
    "\n",
    "\n",
    "import warnings\n",
    "warnings.filterwarnings(\"ignore\")"
   ]
  },
  {
   "cell_type": "markdown",
   "metadata": {},
   "source": [
    "#### Get the data"
   ]
  },
  {
   "cell_type": "code",
   "execution_count": 2,
   "metadata": {},
   "outputs": [
    {
     "data": {
      "text/html": [
       "<div>\n",
       "<style scoped>\n",
       "    .dataframe tbody tr th:only-of-type {\n",
       "        vertical-align: middle;\n",
       "    }\n",
       "\n",
       "    .dataframe tbody tr th {\n",
       "        vertical-align: top;\n",
       "    }\n",
       "\n",
       "    .dataframe thead th {\n",
       "        text-align: right;\n",
       "    }\n",
       "</style>\n",
       "<table border=\"1\" class=\"dataframe\">\n",
       "  <thead>\n",
       "    <tr style=\"text-align: right;\">\n",
       "      <th></th>\n",
       "      <th>RowNumber</th>\n",
       "      <th>CustomerId</th>\n",
       "      <th>Surname</th>\n",
       "      <th>CreditScore</th>\n",
       "      <th>Geography</th>\n",
       "      <th>Gender</th>\n",
       "      <th>Age</th>\n",
       "      <th>Tenure</th>\n",
       "      <th>Balance</th>\n",
       "      <th>NumOfProducts</th>\n",
       "      <th>HasCrCard</th>\n",
       "      <th>IsActiveMember</th>\n",
       "      <th>EstimatedSalary</th>\n",
       "      <th>Exited</th>\n",
       "    </tr>\n",
       "  </thead>\n",
       "  <tbody>\n",
       "    <tr>\n",
       "      <th>0</th>\n",
       "      <td>1</td>\n",
       "      <td>15634602</td>\n",
       "      <td>Hargrave</td>\n",
       "      <td>619</td>\n",
       "      <td>France</td>\n",
       "      <td>Female</td>\n",
       "      <td>42</td>\n",
       "      <td>2</td>\n",
       "      <td>0.00</td>\n",
       "      <td>1</td>\n",
       "      <td>1</td>\n",
       "      <td>1</td>\n",
       "      <td>101348.88</td>\n",
       "      <td>1</td>\n",
       "    </tr>\n",
       "    <tr>\n",
       "      <th>1</th>\n",
       "      <td>2</td>\n",
       "      <td>15647311</td>\n",
       "      <td>Hill</td>\n",
       "      <td>608</td>\n",
       "      <td>Spain</td>\n",
       "      <td>Female</td>\n",
       "      <td>41</td>\n",
       "      <td>1</td>\n",
       "      <td>83807.86</td>\n",
       "      <td>1</td>\n",
       "      <td>0</td>\n",
       "      <td>1</td>\n",
       "      <td>112542.58</td>\n",
       "      <td>0</td>\n",
       "    </tr>\n",
       "    <tr>\n",
       "      <th>2</th>\n",
       "      <td>3</td>\n",
       "      <td>15619304</td>\n",
       "      <td>Onio</td>\n",
       "      <td>502</td>\n",
       "      <td>France</td>\n",
       "      <td>Female</td>\n",
       "      <td>42</td>\n",
       "      <td>8</td>\n",
       "      <td>159660.80</td>\n",
       "      <td>3</td>\n",
       "      <td>1</td>\n",
       "      <td>0</td>\n",
       "      <td>113931.57</td>\n",
       "      <td>1</td>\n",
       "    </tr>\n",
       "    <tr>\n",
       "      <th>3</th>\n",
       "      <td>4</td>\n",
       "      <td>15701354</td>\n",
       "      <td>Boni</td>\n",
       "      <td>699</td>\n",
       "      <td>France</td>\n",
       "      <td>Female</td>\n",
       "      <td>39</td>\n",
       "      <td>1</td>\n",
       "      <td>0.00</td>\n",
       "      <td>2</td>\n",
       "      <td>0</td>\n",
       "      <td>0</td>\n",
       "      <td>93826.63</td>\n",
       "      <td>0</td>\n",
       "    </tr>\n",
       "    <tr>\n",
       "      <th>4</th>\n",
       "      <td>5</td>\n",
       "      <td>15737888</td>\n",
       "      <td>Mitchell</td>\n",
       "      <td>850</td>\n",
       "      <td>Spain</td>\n",
       "      <td>Female</td>\n",
       "      <td>43</td>\n",
       "      <td>2</td>\n",
       "      <td>125510.82</td>\n",
       "      <td>1</td>\n",
       "      <td>1</td>\n",
       "      <td>1</td>\n",
       "      <td>79084.10</td>\n",
       "      <td>0</td>\n",
       "    </tr>\n",
       "  </tbody>\n",
       "</table>\n",
       "</div>"
      ],
      "text/plain": [
       "   RowNumber  CustomerId   Surname  CreditScore Geography  Gender  Age  \\\n",
       "0          1    15634602  Hargrave          619    France  Female   42   \n",
       "1          2    15647311      Hill          608     Spain  Female   41   \n",
       "2          3    15619304      Onio          502    France  Female   42   \n",
       "3          4    15701354      Boni          699    France  Female   39   \n",
       "4          5    15737888  Mitchell          850     Spain  Female   43   \n",
       "\n",
       "   Tenure    Balance  NumOfProducts  HasCrCard  IsActiveMember  \\\n",
       "0       2       0.00              1          1               1   \n",
       "1       1   83807.86              1          0               1   \n",
       "2       8  159660.80              3          1               0   \n",
       "3       1       0.00              2          0               0   \n",
       "4       2  125510.82              1          1               1   \n",
       "\n",
       "   EstimatedSalary  Exited  \n",
       "0        101348.88       1  \n",
       "1        112542.58       0  \n",
       "2        113931.57       1  \n",
       "3         93826.63       0  \n",
       "4         79084.10       0  "
      ]
     },
     "execution_count": 2,
     "metadata": {},
     "output_type": "execute_result"
    }
   ],
   "source": [
    "data = pd.read_csv('Churn_Modelling.csv') \n",
    "data.head()"
   ]
  },
  {
   "cell_type": "code",
   "execution_count": 3,
   "metadata": {},
   "outputs": [
    {
     "name": "stdout",
     "output_type": "stream",
     "text": [
      "<class 'pandas.core.frame.DataFrame'>\n",
      "RangeIndex: 10000 entries, 0 to 9999\n",
      "Data columns (total 14 columns):\n",
      " #   Column           Non-Null Count  Dtype  \n",
      "---  ------           --------------  -----  \n",
      " 0   RowNumber        10000 non-null  int64  \n",
      " 1   CustomerId       10000 non-null  int64  \n",
      " 2   Surname          10000 non-null  object \n",
      " 3   CreditScore      10000 non-null  int64  \n",
      " 4   Geography        10000 non-null  object \n",
      " 5   Gender           10000 non-null  object \n",
      " 6   Age              10000 non-null  int64  \n",
      " 7   Tenure           10000 non-null  int64  \n",
      " 8   Balance          10000 non-null  float64\n",
      " 9   NumOfProducts    10000 non-null  int64  \n",
      " 10  HasCrCard        10000 non-null  int64  \n",
      " 11  IsActiveMember   10000 non-null  int64  \n",
      " 12  EstimatedSalary  10000 non-null  float64\n",
      " 13  Exited           10000 non-null  int64  \n",
      "dtypes: float64(2), int64(9), object(3)\n",
      "memory usage: 1.1+ MB\n"
     ]
    }
   ],
   "source": [
    "data.info()"
   ]
  },
  {
   "cell_type": "code",
   "execution_count": 4,
   "metadata": {},
   "outputs": [
    {
     "data": {
      "text/html": [
       "<div>\n",
       "<style scoped>\n",
       "    .dataframe tbody tr th:only-of-type {\n",
       "        vertical-align: middle;\n",
       "    }\n",
       "\n",
       "    .dataframe tbody tr th {\n",
       "        vertical-align: top;\n",
       "    }\n",
       "\n",
       "    .dataframe thead th {\n",
       "        text-align: right;\n",
       "    }\n",
       "</style>\n",
       "<table border=\"1\" class=\"dataframe\">\n",
       "  <thead>\n",
       "    <tr style=\"text-align: right;\">\n",
       "      <th></th>\n",
       "      <th>RowNumber</th>\n",
       "      <th>CustomerId</th>\n",
       "      <th>CreditScore</th>\n",
       "      <th>Age</th>\n",
       "      <th>Tenure</th>\n",
       "      <th>Balance</th>\n",
       "      <th>NumOfProducts</th>\n",
       "      <th>HasCrCard</th>\n",
       "      <th>IsActiveMember</th>\n",
       "      <th>EstimatedSalary</th>\n",
       "      <th>Exited</th>\n",
       "    </tr>\n",
       "  </thead>\n",
       "  <tbody>\n",
       "    <tr>\n",
       "      <th>count</th>\n",
       "      <td>10000.00000</td>\n",
       "      <td>1.000000e+04</td>\n",
       "      <td>10000.000000</td>\n",
       "      <td>10000.000000</td>\n",
       "      <td>10000.000000</td>\n",
       "      <td>10000.000000</td>\n",
       "      <td>10000.000000</td>\n",
       "      <td>10000.00000</td>\n",
       "      <td>10000.000000</td>\n",
       "      <td>10000.000000</td>\n",
       "      <td>10000.000000</td>\n",
       "    </tr>\n",
       "    <tr>\n",
       "      <th>mean</th>\n",
       "      <td>5000.50000</td>\n",
       "      <td>1.569094e+07</td>\n",
       "      <td>650.528800</td>\n",
       "      <td>38.921800</td>\n",
       "      <td>5.012800</td>\n",
       "      <td>76485.889288</td>\n",
       "      <td>1.530200</td>\n",
       "      <td>0.70550</td>\n",
       "      <td>0.515100</td>\n",
       "      <td>100090.239881</td>\n",
       "      <td>0.203700</td>\n",
       "    </tr>\n",
       "    <tr>\n",
       "      <th>std</th>\n",
       "      <td>2886.89568</td>\n",
       "      <td>7.193619e+04</td>\n",
       "      <td>96.653299</td>\n",
       "      <td>10.487806</td>\n",
       "      <td>2.892174</td>\n",
       "      <td>62397.405202</td>\n",
       "      <td>0.581654</td>\n",
       "      <td>0.45584</td>\n",
       "      <td>0.499797</td>\n",
       "      <td>57510.492818</td>\n",
       "      <td>0.402769</td>\n",
       "    </tr>\n",
       "    <tr>\n",
       "      <th>min</th>\n",
       "      <td>1.00000</td>\n",
       "      <td>1.556570e+07</td>\n",
       "      <td>350.000000</td>\n",
       "      <td>18.000000</td>\n",
       "      <td>0.000000</td>\n",
       "      <td>0.000000</td>\n",
       "      <td>1.000000</td>\n",
       "      <td>0.00000</td>\n",
       "      <td>0.000000</td>\n",
       "      <td>11.580000</td>\n",
       "      <td>0.000000</td>\n",
       "    </tr>\n",
       "    <tr>\n",
       "      <th>25%</th>\n",
       "      <td>2500.75000</td>\n",
       "      <td>1.562853e+07</td>\n",
       "      <td>584.000000</td>\n",
       "      <td>32.000000</td>\n",
       "      <td>3.000000</td>\n",
       "      <td>0.000000</td>\n",
       "      <td>1.000000</td>\n",
       "      <td>0.00000</td>\n",
       "      <td>0.000000</td>\n",
       "      <td>51002.110000</td>\n",
       "      <td>0.000000</td>\n",
       "    </tr>\n",
       "    <tr>\n",
       "      <th>50%</th>\n",
       "      <td>5000.50000</td>\n",
       "      <td>1.569074e+07</td>\n",
       "      <td>652.000000</td>\n",
       "      <td>37.000000</td>\n",
       "      <td>5.000000</td>\n",
       "      <td>97198.540000</td>\n",
       "      <td>1.000000</td>\n",
       "      <td>1.00000</td>\n",
       "      <td>1.000000</td>\n",
       "      <td>100193.915000</td>\n",
       "      <td>0.000000</td>\n",
       "    </tr>\n",
       "    <tr>\n",
       "      <th>75%</th>\n",
       "      <td>7500.25000</td>\n",
       "      <td>1.575323e+07</td>\n",
       "      <td>718.000000</td>\n",
       "      <td>44.000000</td>\n",
       "      <td>7.000000</td>\n",
       "      <td>127644.240000</td>\n",
       "      <td>2.000000</td>\n",
       "      <td>1.00000</td>\n",
       "      <td>1.000000</td>\n",
       "      <td>149388.247500</td>\n",
       "      <td>0.000000</td>\n",
       "    </tr>\n",
       "    <tr>\n",
       "      <th>max</th>\n",
       "      <td>10000.00000</td>\n",
       "      <td>1.581569e+07</td>\n",
       "      <td>850.000000</td>\n",
       "      <td>92.000000</td>\n",
       "      <td>10.000000</td>\n",
       "      <td>250898.090000</td>\n",
       "      <td>4.000000</td>\n",
       "      <td>1.00000</td>\n",
       "      <td>1.000000</td>\n",
       "      <td>199992.480000</td>\n",
       "      <td>1.000000</td>\n",
       "    </tr>\n",
       "  </tbody>\n",
       "</table>\n",
       "</div>"
      ],
      "text/plain": [
       "         RowNumber    CustomerId   CreditScore           Age        Tenure  \\\n",
       "count  10000.00000  1.000000e+04  10000.000000  10000.000000  10000.000000   \n",
       "mean    5000.50000  1.569094e+07    650.528800     38.921800      5.012800   \n",
       "std     2886.89568  7.193619e+04     96.653299     10.487806      2.892174   \n",
       "min        1.00000  1.556570e+07    350.000000     18.000000      0.000000   \n",
       "25%     2500.75000  1.562853e+07    584.000000     32.000000      3.000000   \n",
       "50%     5000.50000  1.569074e+07    652.000000     37.000000      5.000000   \n",
       "75%     7500.25000  1.575323e+07    718.000000     44.000000      7.000000   \n",
       "max    10000.00000  1.581569e+07    850.000000     92.000000     10.000000   \n",
       "\n",
       "             Balance  NumOfProducts    HasCrCard  IsActiveMember  \\\n",
       "count   10000.000000   10000.000000  10000.00000    10000.000000   \n",
       "mean    76485.889288       1.530200      0.70550        0.515100   \n",
       "std     62397.405202       0.581654      0.45584        0.499797   \n",
       "min         0.000000       1.000000      0.00000        0.000000   \n",
       "25%         0.000000       1.000000      0.00000        0.000000   \n",
       "50%     97198.540000       1.000000      1.00000        1.000000   \n",
       "75%    127644.240000       2.000000      1.00000        1.000000   \n",
       "max    250898.090000       4.000000      1.00000        1.000000   \n",
       "\n",
       "       EstimatedSalary        Exited  \n",
       "count     10000.000000  10000.000000  \n",
       "mean     100090.239881      0.203700  \n",
       "std       57510.492818      0.402769  \n",
       "min          11.580000      0.000000  \n",
       "25%       51002.110000      0.000000  \n",
       "50%      100193.915000      0.000000  \n",
       "75%      149388.247500      0.000000  \n",
       "max      199992.480000      1.000000  "
      ]
     },
     "execution_count": 4,
     "metadata": {},
     "output_type": "execute_result"
    }
   ],
   "source": [
    "data.describe()"
   ]
  },
  {
   "cell_type": "code",
   "execution_count": 5,
   "metadata": {},
   "outputs": [
    {
     "data": {
      "text/plain": [
       "France     5014\n",
       "Germany    2509\n",
       "Spain      2477\n",
       "Name: Geography, dtype: int64"
      ]
     },
     "execution_count": 5,
     "metadata": {},
     "output_type": "execute_result"
    }
   ],
   "source": [
    "data['Geography'].value_counts()"
   ]
  },
  {
   "cell_type": "code",
   "execution_count": 6,
   "metadata": {},
   "outputs": [],
   "source": [
    "X = data.drop(['RowNumber','CustomerId','Surname','Exited'],axis=1).values"
   ]
  },
  {
   "cell_type": "code",
   "execution_count": 7,
   "metadata": {},
   "outputs": [
    {
     "data": {
      "text/plain": [
       "array([[619, 'France', 'Female', ..., 1, 1, 101348.88],\n",
       "       [608, 'Spain', 'Female', ..., 0, 1, 112542.58],\n",
       "       [502, 'France', 'Female', ..., 1, 0, 113931.57],\n",
       "       ...,\n",
       "       [709, 'France', 'Female', ..., 0, 1, 42085.58],\n",
       "       [772, 'Germany', 'Male', ..., 1, 0, 92888.52],\n",
       "       [792, 'France', 'Female', ..., 1, 0, 38190.78]], dtype=object)"
      ]
     },
     "execution_count": 7,
     "metadata": {},
     "output_type": "execute_result"
    }
   ],
   "source": [
    "X"
   ]
  },
  {
   "cell_type": "code",
   "execution_count": 8,
   "metadata": {},
   "outputs": [],
   "source": [
    "y = data['Exited'].values"
   ]
  },
  {
   "cell_type": "code",
   "execution_count": 9,
   "metadata": {},
   "outputs": [
    {
     "data": {
      "text/plain": [
       "(10000,)"
      ]
     },
     "execution_count": 9,
     "metadata": {},
     "output_type": "execute_result"
    }
   ],
   "source": [
    "y.shape"
   ]
  },
  {
   "cell_type": "markdown",
   "metadata": {},
   "source": [
    "#### Encoding Categorical Data"
   ]
  },
  {
   "cell_type": "code",
   "execution_count": 10,
   "metadata": {},
   "outputs": [
    {
     "data": {
      "text/plain": [
       "array([[619, 0, 0, ..., 1, 1, 101348.88],\n",
       "       [608, 2, 0, ..., 0, 1, 112542.58],\n",
       "       [502, 0, 0, ..., 1, 0, 113931.57],\n",
       "       ...,\n",
       "       [709, 0, 0, ..., 0, 1, 42085.58],\n",
       "       [772, 1, 1, ..., 1, 0, 92888.52],\n",
       "       [792, 0, 0, ..., 1, 0, 38190.78]], dtype=object)"
      ]
     },
     "execution_count": 10,
     "metadata": {},
     "output_type": "execute_result"
    }
   ],
   "source": [
    "# encode geography feature\n",
    "labelencoder_1 = LabelEncoder()\n",
    "X[:, 1] = labelencoder_1.fit_transform(X[:, 1])\n",
    "\n",
    "# encode gender feature\n",
    "labelencoder_1 = LabelEncoder()\n",
    "X[:, 2] = labelencoder_1.fit_transform(X[:, 2])\n",
    "\n",
    "X"
   ]
  },
  {
   "cell_type": "code",
   "execution_count": 11,
   "metadata": {},
   "outputs": [
    {
     "data": {
      "text/plain": [
       "(10000, 10)"
      ]
     },
     "execution_count": 11,
     "metadata": {},
     "output_type": "execute_result"
    }
   ],
   "source": [
    "X.shape"
   ]
  },
  {
   "cell_type": "code",
   "execution_count": 12,
   "metadata": {},
   "outputs": [],
   "source": [
    "# one hot encoding based of geography feature\n",
    "ct = ColumnTransformer([(\"Geography\", OneHotEncoder(), [1])], remainder = 'passthrough')\n",
    "# \"Geography\" = the name of the step - can be any name\n",
    "# OneHotEncoder() = which transformation to apply\n",
    "# [1] = where to apply the transformation\n",
    "X = ct.fit_transform(X)"
   ]
  },
  {
   "cell_type": "code",
   "execution_count": 13,
   "metadata": {},
   "outputs": [
    {
     "data": {
      "text/plain": [
       "array([[1.0, 0.0, 0.0, ..., 1, 1, 101348.88],\n",
       "       [0.0, 0.0, 1.0, ..., 0, 1, 112542.58],\n",
       "       [1.0, 0.0, 0.0, ..., 1, 0, 113931.57],\n",
       "       ...,\n",
       "       [1.0, 0.0, 0.0, ..., 0, 1, 42085.58],\n",
       "       [0.0, 1.0, 0.0, ..., 1, 0, 92888.52],\n",
       "       [1.0, 0.0, 0.0, ..., 1, 0, 38190.78]], dtype=object)"
      ]
     },
     "execution_count": 13,
     "metadata": {},
     "output_type": "execute_result"
    }
   ],
   "source": [
    "X"
   ]
  },
  {
   "cell_type": "code",
   "execution_count": 14,
   "metadata": {},
   "outputs": [
    {
     "data": {
      "text/plain": [
       "(10000, 12)"
      ]
     },
     "execution_count": 14,
     "metadata": {},
     "output_type": "execute_result"
    }
   ],
   "source": [
    "X.shape"
   ]
  },
  {
   "cell_type": "code",
   "execution_count": 15,
   "metadata": {},
   "outputs": [
    {
     "data": {
      "text/plain": [
       "array([0.0, 0.0, 1.0, 608, 0, 41, 1, 83807.86, 1, 0, 1, 112542.58],\n",
       "      dtype=object)"
      ]
     },
     "execution_count": 15,
     "metadata": {},
     "output_type": "execute_result"
    }
   ],
   "source": [
    "# Let's see all the values of the second row\n",
    "np.set_printoptions(threshold=np.inf)\n",
    "X[1]"
   ]
  },
  {
   "cell_type": "code",
   "execution_count": 16,
   "metadata": {},
   "outputs": [
    {
     "data": {
      "text/plain": [
       "array([0.0, 1.0, 608, 0, 41, 1, 83807.86, 1, 0, 1, 112542.58],\n",
       "      dtype=object)"
      ]
     },
     "execution_count": 16,
     "metadata": {},
     "output_type": "execute_result"
    }
   ],
   "source": [
    "# to avoid multicoliniarity\n",
    "X = X[: , 1:]\n",
    "X[1]"
   ]
  },
  {
   "cell_type": "markdown",
   "metadata": {},
   "source": [
    "#### Split the data"
   ]
  },
  {
   "cell_type": "code",
   "execution_count": 17,
   "metadata": {},
   "outputs": [],
   "source": [
    "X_train, X_test, y_train, y_test = train_test_split(X, y, test_size=0.3, random_state=101)"
   ]
  },
  {
   "cell_type": "markdown",
   "metadata": {},
   "source": [
    "#### Feature Scaling"
   ]
  },
  {
   "cell_type": "code",
   "execution_count": 18,
   "metadata": {},
   "outputs": [],
   "source": [
    "sc = MinMaxScaler()\n",
    "X_train = sc.fit_transform(X_train)\n",
    "X_test = sc.transform(X_test)"
   ]
  },
  {
   "cell_type": "code",
   "execution_count": 19,
   "metadata": {},
   "outputs": [
    {
     "data": {
      "text/plain": [
       "<torch._C.Generator at 0x175cb748410>"
      ]
     },
     "execution_count": 19,
     "metadata": {},
     "output_type": "execute_result"
    }
   ],
   "source": [
    "torch.manual_seed(42)"
   ]
  },
  {
   "cell_type": "markdown",
   "metadata": {},
   "source": [
    "### Artificial Neural Network"
   ]
  },
  {
   "cell_type": "code",
   "execution_count": 20,
   "metadata": {},
   "outputs": [],
   "source": [
    "device = torch.device(\"cuda:0\" if torch.cuda.is_available() else \"cpu\")"
   ]
  },
  {
   "cell_type": "code",
   "execution_count": 21,
   "metadata": {},
   "outputs": [],
   "source": [
    "# numpy to tensor conversion\n",
    "X_train = torch.from_numpy(X_train).float()\n",
    "y_train = torch.from_numpy(y_train).float()\n",
    "\n",
    "X_test = torch.from_numpy(X_test).float()\n",
    "y_test = torch.from_numpy(y_test).float()"
   ]
  },
  {
   "cell_type": "code",
   "execution_count": 22,
   "metadata": {},
   "outputs": [],
   "source": [
    "class LinearDataset(Dataset):\n",
    "    def __init__(self, X, y):\n",
    "        assert X.size()[0] == y.size()[0]\n",
    "        self.X = X\n",
    "        self.y = y\n",
    "    \n",
    "    def __len__(self):\n",
    "        return self.X.size()[0]\n",
    "    \n",
    "    def __getitem__(self, idx):\n",
    "        return [self.X[idx], self.y[idx]]"
   ]
  },
  {
   "cell_type": "code",
   "execution_count": 23,
   "metadata": {},
   "outputs": [],
   "source": [
    "# create dataloaders\n",
    "batch_size = 128\n",
    "train_loader = utils.DataLoader(LinearDataset(X_train, y_train), batch_size = batch_size, shuffle = True)\n",
    "test_loader = utils.DataLoader(LinearDataset(X_test, y_test), batch_size = batch_size, shuffle = False)"
   ]
  },
  {
   "cell_type": "code",
   "execution_count": 24,
   "metadata": {},
   "outputs": [],
   "source": [
    "class MyNeuralNet(nn.Module):\n",
    "    def __init__(self,input_dim=11,output_dim=1, **kwargs):\n",
    "        super(MyNeuralNet, self).__init__(**kwargs)\n",
    "        self.fc1 = nn.Linear(input_dim, 128)\n",
    "        self.fc2 = nn.Linear(128, 64)\n",
    "         # dropout layer (40%)\n",
    "        self.dropout = nn.Dropout(0.4)\n",
    "        self.fc3 = nn.Linear(64, 32)\n",
    "        self.fc4 = nn.Linear(32, 16)\n",
    "        self.output = nn.Linear(16, output_dim)\n",
    "        \n",
    "\n",
    "        \n",
    "    def forward(self, x):\n",
    "        x = F.relu(self.fc1(x))\n",
    "        x = F.relu(self.fc2(x))\n",
    "        x = self.dropout(x)\n",
    "        x = F.relu(self.fc3(x))\n",
    "        x = F.relu(self.fc4(x))\n",
    "        x = F.sigmoid(self.output(x))\n",
    "        return x"
   ]
  },
  {
   "cell_type": "code",
   "execution_count": 25,
   "metadata": {},
   "outputs": [
    {
     "name": "stdout",
     "output_type": "stream",
     "text": [
      "MyNeuralNet(\n",
      "  (fc1): Linear(in_features=11, out_features=128, bias=True)\n",
      "  (fc2): Linear(in_features=128, out_features=64, bias=True)\n",
      "  (dropout): Dropout(p=0.4, inplace=False)\n",
      "  (fc3): Linear(in_features=64, out_features=32, bias=True)\n",
      "  (fc4): Linear(in_features=32, out_features=16, bias=True)\n",
      "  (output): Linear(in_features=16, out_features=1, bias=True)\n",
      ")\n"
     ]
    }
   ],
   "source": [
    "net = MyNeuralNet(input_dim=11)\n",
    "print(net)"
   ]
  },
  {
   "cell_type": "code",
   "execution_count": 26,
   "metadata": {},
   "outputs": [],
   "source": [
    "# loss function\n",
    "loss_fn = nn.MSELoss()\n",
    "\n",
    "# optimizer\n",
    "optimizer = optim.Adam(net.parameters(), lr=0.01,weight_decay=1e-6)"
   ]
  },
  {
   "cell_type": "code",
   "execution_count": 27,
   "metadata": {},
   "outputs": [],
   "source": [
    "epochs = 50\n",
    "num_examples = len(X_train)\n",
    "num_examplesVal = len(X_test)\n",
    "num_batches = num_examples / batch_size\n",
    "num_batchesVal = num_examplesVal / batch_size\n",
    "losses = []\n",
    "lossesVal = []"
   ]
  },
  {
   "cell_type": "code",
   "execution_count": 28,
   "metadata": {
    "scrolled": true
   },
   "outputs": [
    {
     "name": "stdout",
     "output_type": "stream",
     "text": [
      "Epoch 0, TrainLoss: 0.0013087713324597904, TestLoss: 0.0011658522486686707\n",
      "Epoch 1, TrainLoss: 0.0011046134904026984, TestLoss: 0.0010602045878767966\n",
      "Epoch 2, TrainLoss: 0.0010476077795028686, TestLoss: 0.0010150111864010492\n",
      "Epoch 3, TrainLoss: 0.0009995033251387732, TestLoss: 0.0009770202140013376\n",
      "Epoch 4, TrainLoss: 0.0009412462477173124, TestLoss: 0.0009373774379491806\n",
      "Epoch 5, TrainLoss: 0.0009317515194416046, TestLoss: 0.0009055713067452112\n",
      "Epoch 6, TrainLoss: 0.0008964004442095757, TestLoss: 0.0009009699920813243\n",
      "Epoch 7, TrainLoss: 0.0008993582693593842, TestLoss: 0.0009006081273158391\n",
      "Epoch 8, TrainLoss: 0.0008833146584885461, TestLoss: 0.0008651028896371523\n",
      "Epoch 9, TrainLoss: 0.0009039889116372381, TestLoss: 0.0008981383293867111\n",
      "Epoch 10, TrainLoss: 0.000873421773314476, TestLoss: 0.0008751425892114639\n",
      "Epoch 11, TrainLoss: 0.0008678041707192148, TestLoss: 0.0008665845567981403\n",
      "Epoch 12, TrainLoss: 0.0008581353340830121, TestLoss: 0.000845962459842364\n",
      "Epoch 13, TrainLoss: 0.0008615520798734256, TestLoss: 0.0008693828061223031\n",
      "Epoch 14, TrainLoss: 0.0008894761449524335, TestLoss: 0.0008446786055962245\n",
      "Epoch 15, TrainLoss: 0.0008562112961496626, TestLoss: 0.0008679992357889812\n",
      "Epoch 16, TrainLoss: 0.0008705030732921191, TestLoss: 0.0008516893436511357\n",
      "Epoch 17, TrainLoss: 0.0008407426476478577, TestLoss: 0.0008489524324735005\n",
      "Epoch 18, TrainLoss: 0.0008474637653146472, TestLoss: 0.0008719340761502584\n",
      "Epoch 19, TrainLoss: 0.0008498793989419937, TestLoss: 0.0008631055926283201\n",
      "Epoch 20, TrainLoss: 0.0008432814957840102, TestLoss: 0.0008777139907081922\n",
      "Epoch 21, TrainLoss: 0.0008399810918739863, TestLoss: 0.0008426998456319173\n",
      "Epoch 22, TrainLoss: 0.000843239282390901, TestLoss: 0.0008298630068699519\n",
      "Epoch 23, TrainLoss: 0.0008258838525840214, TestLoss: 0.0008295232330759367\n",
      "Epoch 24, TrainLoss: 0.0008204713325415338, TestLoss: 0.0008338815619548162\n",
      "Epoch 25, TrainLoss: 0.0008376757108739444, TestLoss: 0.0008467243562142055\n",
      "Epoch 26, TrainLoss: 0.000827031668807779, TestLoss: 0.0008387853329380353\n",
      "Epoch 27, TrainLoss: 0.000828266587640558, TestLoss: 0.0008299109737078348\n",
      "Epoch 28, TrainLoss: 0.0008232912059341159, TestLoss: 0.0008587387750546138\n",
      "Epoch 29, TrainLoss: 0.0008300144416945321, TestLoss: 0.0008402536263068517\n",
      "Epoch 30, TrainLoss: 0.0008122593462467194, TestLoss: 0.000830346792936325\n",
      "Epoch 31, TrainLoss: 0.0008154755277293069, TestLoss: 0.0008281498899062475\n",
      "Epoch 32, TrainLoss: 0.0008119822740554809, TestLoss: 0.0008888410379489263\n",
      "Epoch 33, TrainLoss: 0.000811938036765371, TestLoss: 0.0008740287174781163\n",
      "Epoch 34, TrainLoss: 0.0008289504482277802, TestLoss: 0.00085210004200538\n",
      "Epoch 35, TrainLoss: 0.0008105657579643386, TestLoss: 0.0008280319261054198\n",
      "Epoch 36, TrainLoss: 0.0008141683116555214, TestLoss: 0.0008450863013664882\n",
      "Epoch 37, TrainLoss: 0.0008105643391609192, TestLoss: 0.0009472817406058311\n",
      "Epoch 38, TrainLoss: 0.0008240358414394515, TestLoss: 0.0008267414023478826\n",
      "Epoch 39, TrainLoss: 0.000809411309659481, TestLoss: 0.0008383608361085256\n",
      "Epoch 40, TrainLoss: 0.0008106222567813737, TestLoss: 0.000873478685816129\n",
      "Epoch 41, TrainLoss: 0.0008045268080064229, TestLoss: 0.0008429985518256823\n",
      "Epoch 42, TrainLoss: 0.0008255529946514539, TestLoss: 0.0008325871750712395\n",
      "Epoch 43, TrainLoss: 0.0008130431004932948, TestLoss: 0.0008305925528208415\n",
      "Epoch 44, TrainLoss: 0.00080183252372912, TestLoss: 0.0008366252531607945\n",
      "Epoch 45, TrainLoss: 0.0007988109961152076, TestLoss: 0.000840639519194762\n",
      "Epoch 46, TrainLoss: 0.0008037250116467476, TestLoss: 0.0008423605263233185\n",
      "Epoch 47, TrainLoss: 0.0007999212816357612, TestLoss: 0.0008644287586212159\n",
      "Epoch 48, TrainLoss: 0.0008043130955525807, TestLoss: 0.000846174605190754\n",
      "Epoch 49, TrainLoss: 0.0008091868555971554, TestLoss: 0.0008346209501226743\n"
     ]
    }
   ],
   "source": [
    "for e in range(epochs):\n",
    "    cumulative_loss = 0\n",
    "    test_loss = 0\n",
    "    net.train()\n",
    "    # inner loop\n",
    "    for i, (data, label) in enumerate(train_loader):\n",
    "        data = data.to(device)\n",
    "        label = label.to(device)\n",
    "        \n",
    "        yhat = net(data)\n",
    "        loss = loss_fn(yhat, label.unsqueeze(1))\n",
    "        \n",
    "        optimizer.zero_grad()\n",
    "        loss.backward()\n",
    "        optimizer.step()\n",
    "        \n",
    "        cumulative_loss += loss.item()\n",
    "        \n",
    "    net.eval()\n",
    "    for i, (data, label) in enumerate(test_loader):\n",
    "        data = data.to(device)\n",
    "        label = label.to(device)\n",
    "        \n",
    "        yhat = net(data)\n",
    "        loss = loss_fn(yhat, label.unsqueeze(1))\n",
    "        test_loss += loss.item()\n",
    "        \n",
    "    print(\"Epoch %s, TrainLoss: %s, TestLoss: %s\" % (e, cumulative_loss / num_examples, test_loss / num_examplesVal))\n",
    "    losses.append(cumulative_loss / num_examples)\n",
    "    lossesVal.append(test_loss / num_examplesVal)\n",
    "    #losses.append(cumulative_loss / num_batches)\n",
    "    #lossesTest.append(test_loss / num_batchesTest)"
   ]
  },
  {
   "cell_type": "code",
   "execution_count": 29,
   "metadata": {},
   "outputs": [
    {
     "data": {
      "image/png": "[encoded data removed]",
      "text/plain": [
       "<Figure size 576x432 with 1 Axes>"
      ]
     },
     "metadata": {
      "needs_background": "light"
     },
     "output_type": "display_data"
    }
   ],
   "source": [
    "plt.figure(num=None, figsize=(8, 6))\n",
    "plt.plot(losses)\n",
    "plt.plot(lossesVal)\n",
    "\n",
    "# Adding some bells and whistles to the plot\n",
    "plt.grid(True, which=\"both\")\n",
    "plt.xlabel('epoch', fontsize=14)\n",
    "plt.ylabel('average loss', fontsize=14)\n",
    "plt.show()"
   ]
  },
  {
   "cell_type": "code",
   "execution_count": 30,
   "metadata": {},
   "outputs": [
    {
     "name": "stdout",
     "output_type": "stream",
     "text": [
      "R2 of ANN is  0.3649583742438637\n"
     ]
    }
   ],
   "source": [
    "net.eval()\n",
    "y_pred = net(X_test)\n",
    "r2Ann = r2_score(y_test,y_pred.detach().numpy())\n",
    "print(\"R2 of ANN is \",r2Ann)"
   ]
  },
  {
   "cell_type": "code",
   "execution_count": 56,
   "metadata": {},
   "outputs": [],
   "source": [
    "class MyNeuralNet(nn.Module):\n",
    "    def __init__(self,input_dim=11,output_dim=1, **kwargs):\n",
    "        super(MyNeuralNet, self).__init__(**kwargs)\n",
    "        self.fc1 = nn.Linear(input_dim, 25)\n",
    "        self.fc2 = nn.Linear(25, 6)\n",
    "        self.output = nn.Linear(6, output_dim)\n",
    "        \n",
    "\n",
    "        \n",
    "    def forward(self, x):\n",
    "        x = F.relu(self.fc1(x))\n",
    "        x = F.relu(self.fc2(x))\n",
    "        x = F.sigmoid(self.output(x))\n",
    "        return x"
   ]
  },
  {
   "cell_type": "code",
   "execution_count": 57,
   "metadata": {},
   "outputs": [
    {
     "name": "stdout",
     "output_type": "stream",
     "text": [
      "MyNeuralNet(\n",
      "  (fc1): Linear(in_features=11, out_features=25, bias=True)\n",
      "  (fc2): Linear(in_features=25, out_features=6, bias=True)\n",
      "  (output): Linear(in_features=6, out_features=1, bias=True)\n",
      ")\n"
     ]
    }
   ],
   "source": [
    "net = MyNeuralNet(input_dim=11)\n",
    "print(net)"
   ]
  },
  {
   "cell_type": "code",
   "execution_count": 58,
   "metadata": {},
   "outputs": [],
   "source": [
    "# loss function\n",
    "loss_fn = nn.MSELoss()\n",
    "\n",
    "# optimizer\n",
    "optimizer = optim.Adam(net.parameters(), lr=0.001,weight_decay=1e-6)"
   ]
  },
  {
   "cell_type": "code",
   "execution_count": 59,
   "metadata": {},
   "outputs": [],
   "source": [
    "epochs = 50\n",
    "num_examples = len(X_train)\n",
    "num_examplesVal = len(X_test)\n",
    "num_batches = num_examples / batch_size\n",
    "num_batchesVal = num_examplesVal / batch_size\n",
    "losses = []\n",
    "lossesVal = []"
   ]
  },
  {
   "cell_type": "code",
   "execution_count": 60,
   "metadata": {},
   "outputs": [
    {
     "name": "stdout",
     "output_type": "stream",
     "text": [
      "Epoch 0, TrainLoss: 0.002041977937732424, TestLoss: 0.0016578145970900853\n",
      "Epoch 1, TrainLoss: 0.0013504823510135924, TestLoss: 0.0012863455563783645\n",
      "Epoch 2, TrainLoss: 0.0012392587225352014, TestLoss: 0.0012507115105787913\n",
      "Epoch 3, TrainLoss: 0.0012021224136863436, TestLoss: 0.0012149864460031191\n",
      "Epoch 4, TrainLoss: 0.0011702555630888258, TestLoss: 0.0011922014504671097\n",
      "Epoch 5, TrainLoss: 0.0011485373824834824, TestLoss: 0.001174124797185262\n",
      "Epoch 6, TrainLoss: 0.001134236706154687, TestLoss: 0.0011600348750750223\n",
      "Epoch 7, TrainLoss: 0.0011199703173977989, TestLoss: 0.0011457662681738535\n",
      "Epoch 8, TrainLoss: 0.0011075446371521269, TestLoss: 0.0011347863028446834\n",
      "Epoch 9, TrainLoss: 0.0010974339959876878, TestLoss: 0.0011222502862413724\n",
      "Epoch 10, TrainLoss: 0.0010910474860242436, TestLoss: 0.0011181008269389471\n",
      "Epoch 11, TrainLoss: 0.0010819080280406134, TestLoss: 0.0011097718079884848\n",
      "Epoch 12, TrainLoss: 0.0010732073336839677, TestLoss: 0.0010984323223431904\n",
      "Epoch 13, TrainLoss: 0.0010733943272914206, TestLoss: 0.0010898651406168938\n",
      "Epoch 14, TrainLoss: 0.001063157822404589, TestLoss: 0.0010838907783230147\n",
      "Epoch 15, TrainLoss: 0.001055946580001286, TestLoss: 0.0010791493232051531\n",
      "Epoch 16, TrainLoss: 0.0010520513962422099, TestLoss: 0.0010747577299674352\n",
      "Epoch 17, TrainLoss: 0.0010495231694408825, TestLoss: 0.001067734810213248\n",
      "Epoch 18, TrainLoss: 0.0010437030749661583, TestLoss: 0.0010600380847851434\n",
      "Epoch 19, TrainLoss: 0.0010354340927941459, TestLoss: 0.001054683710138003\n",
      "Epoch 20, TrainLoss: 0.0010313093055571829, TestLoss: 0.0010473933468262355\n",
      "Epoch 21, TrainLoss: 0.0010233938289540155, TestLoss: 0.0010399865632255872\n",
      "Epoch 22, TrainLoss: 0.0010190042970435959, TestLoss: 0.0010330082798997561\n",
      "Epoch 23, TrainLoss: 0.0010102264444742885, TestLoss: 0.0010250828862190247\n",
      "Epoch 24, TrainLoss: 0.001004593204174723, TestLoss: 0.0010184494654337565\n",
      "Epoch 25, TrainLoss: 0.0009982668512633869, TestLoss: 0.0010116500928997994\n",
      "Epoch 26, TrainLoss: 0.0009920133139405933, TestLoss: 0.0010046437804897626\n",
      "Epoch 27, TrainLoss: 0.0009825903177261353, TestLoss: 0.0009965398261944454\n",
      "Epoch 28, TrainLoss: 0.000976574219763279, TestLoss: 0.000989167240758737\n",
      "Epoch 29, TrainLoss: 0.0009683725982904435, TestLoss: 0.0009840312401453654\n",
      "Epoch 30, TrainLoss: 0.0009648026994296483, TestLoss: 0.0009786903584996858\n",
      "Epoch 31, TrainLoss: 0.0009573875804032598, TestLoss: 0.0009684065754214922\n",
      "Epoch 32, TrainLoss: 0.0009506643063255718, TestLoss: 0.0009642055208484332\n",
      "Epoch 33, TrainLoss: 0.0009454423891646521, TestLoss: 0.0009592968051632245\n",
      "Epoch 34, TrainLoss: 0.0009419731572270394, TestLoss: 0.0009518196259935697\n",
      "Epoch 35, TrainLoss: 0.0009368637768285615, TestLoss: 0.0009462829281886418\n",
      "Epoch 36, TrainLoss: 0.0009305777102708816, TestLoss: 0.000942594679693381\n",
      "Epoch 37, TrainLoss: 0.0009283783520971026, TestLoss: 0.0009364671036601066\n",
      "Epoch 38, TrainLoss: 0.0009228452146053314, TestLoss: 0.0009340956111749013\n",
      "Epoch 39, TrainLoss: 0.0009196345891271319, TestLoss: 0.0009270986194411914\n",
      "Epoch 40, TrainLoss: 0.0009138644571815218, TestLoss: 0.0009339525873462359\n",
      "Epoch 41, TrainLoss: 0.0009149276571614401, TestLoss: 0.0009195598041017851\n",
      "Epoch 42, TrainLoss: 0.0009047097957559995, TestLoss: 0.0009136199926336607\n",
      "Epoch 43, TrainLoss: 0.0008982663101383618, TestLoss: 0.0009023046965400378\n",
      "Epoch 44, TrainLoss: 0.000893305846623012, TestLoss: 0.0008950023179252943\n",
      "Epoch 45, TrainLoss: 0.0008906101339629718, TestLoss: 0.0009042803645133973\n",
      "Epoch 46, TrainLoss: 0.0008817160874605178, TestLoss: 0.0008847627143065134\n",
      "Epoch 47, TrainLoss: 0.0008759303901876722, TestLoss: 0.0008855339388052622\n",
      "Epoch 48, TrainLoss: 0.0008728066267711776, TestLoss: 0.000876397783557574\n",
      "Epoch 49, TrainLoss: 0.0008700460121035576, TestLoss: 0.0008729425693551699\n"
     ]
    }
   ],
   "source": [
    "for e in range(epochs):\n",
    "    cumulative_loss = 0\n",
    "    test_loss = 0\n",
    "    net.train()\n",
    "    # inner loop\n",
    "    for i, (data, label) in enumerate(train_loader):\n",
    "        data = data.to(device)\n",
    "        label = label.to(device)\n",
    "        \n",
    "        yhat = net(data)\n",
    "        loss = loss_fn(yhat, label.unsqueeze(1))\n",
    "        \n",
    "        optimizer.zero_grad()\n",
    "        loss.backward()\n",
    "        optimizer.step()\n",
    "        \n",
    "        cumulative_loss += loss.item()\n",
    "        \n",
    "    net.eval()\n",
    "    for i, (data, label) in enumerate(test_loader):\n",
    "        data = data.to(device)\n",
    "        label = label.to(device)\n",
    "        \n",
    "        yhat = net(data)\n",
    "        loss = loss_fn(yhat, label.unsqueeze(1))\n",
    "        test_loss += loss.item()\n",
    "        \n",
    "    print(\"Epoch %s, TrainLoss: %s, TestLoss: %s\" % (e, cumulative_loss / num_examples, test_loss / num_examplesVal))\n",
    "    losses.append(cumulative_loss / num_examples)\n",
    "    lossesVal.append(test_loss / num_examplesVal)\n",
    "    #losses.append(cumulative_loss / num_batches)\n",
    "    #lossesTest.append(test_loss / num_batchesTest)"
   ]
  },
  {
   "cell_type": "code",
   "execution_count": 61,
   "metadata": {},
   "outputs": [
    {
     "data": {
      "image/png": "[encoded data removed]",
      "text/plain": [
       "<Figure size 576x432 with 1 Axes>"
      ]
     },
     "metadata": {
      "needs_background": "light"
     },
     "output_type": "display_data"
    }
   ],
   "source": [
    "plt.figure(num=None, figsize=(8, 6))\n",
    "plt.plot(losses)\n",
    "plt.plot(lossesVal)\n",
    "\n",
    "# Adding some bells and whistles to the plot\n",
    "plt.grid(True, which=\"both\")\n",
    "plt.xlabel('epoch', fontsize=14)\n",
    "plt.ylabel('average loss', fontsize=14)\n",
    "plt.show()"
   ]
  },
  {
   "cell_type": "code",
   "execution_count": 62,
   "metadata": {},
   "outputs": [
    {
     "name": "stdout",
     "output_type": "stream",
     "text": [
      "R2 of ANN is  0.3375136681762745\n"
     ]
    }
   ],
   "source": [
    "net.eval()\n",
    "y_pred = net(X_test)\n",
    "r2Ann = r2_score(y_test,y_pred.detach().numpy())\n",
    "print(\"R2 of ANN is \",r2Ann)"
   ]
  }
 ],
 "metadata": {
  "kernelspec": {
   "display_name": "Python 3",
   "language": "python",
   "name": "python3"
  },
  "language_info": {
   "codemirror_mode": {
    "name": "ipython",
    "version": 3
   },
   "file_extension": ".py",
   "mimetype": "text/x-python",
   "name": "python",
   "nbconvert_exporter": "python",
   "pygments_lexer": "ipython3",
   "version": "3.8.3"
  }
 },
 "nbformat": 4,
 "nbformat_minor": 5
}
